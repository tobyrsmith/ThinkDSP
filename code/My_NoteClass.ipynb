{
 "cells": [
  {
   "cell_type": "code",
   "execution_count": 1,
   "metadata": {
    "collapsed": true
   },
   "outputs": [],
   "source": [
    "import numpy as np"
   ]
  },
  {
   "cell_type": "code",
   "execution_count": 2,
   "metadata": {
    "collapsed": false
   },
   "outputs": [
    {
     "name": "stdout",
     "output_type": "stream",
     "text": [
      "[   27.5           29.13523509    30.86770633    32.70319566    34.64782887\n",
      "    36.70809599    38.89087297    41.20344461    43.65352893    46.24930284\n",
      "    48.9994295     51.9130872     55.            58.27047019    61.73541266\n",
      "    65.40639133    69.29565774    73.41619198    77.78174593    82.40688923\n",
      "    87.30705786    92.49860568    97.998859     103.82617439   110.\n",
      "   116.54094038   123.47082531   130.81278265   138.59131549   146.83238396\n",
      "   155.56349186   164.81377846   174.61411572   184.99721136   195.99771799\n",
      "   207.65234879   220.           233.08188076   246.94165063   261.6255653\n",
      "   277.18263098   293.66476792   311.12698372   329.62755691   349.22823143\n",
      "   369.99442271   391.99543598   415.30469758   440.           466.16376152\n",
      "   493.88330126   523.2511306    554.36526195   587.32953583   622.25396744\n",
      "   659.25511383   698.45646287   739.98884542   783.99087196   830.60939516\n",
      "   880.           932.32752304   987.76660251  1046.5022612   1108.73052391\n",
      "  1174.65907167  1244.50793489  1318.51022765  1396.91292573  1479.97769085\n",
      "  1567.98174393  1661.21879032  1760.          1864.65504607  1975.53320502\n",
      "  2093.0045224   2217.46104781  2349.31814334  2489.01586978  2637.0204553\n",
      "  2793.82585146  2959.95538169  3135.96348785  3322.43758064  3520.\n",
      "  3729.31009214  3951.06641005  4186.00904481]\n"
     ]
    }
   ],
   "source": [
    "M = np.arange(21,109,1)\n",
    "fM = 2 ** ((M-69)/12.0) * 440.0\n",
    "print(fM)"
   ]
  },
  {
   "cell_type": "code",
   "execution_count": 67,
   "metadata": {
    "collapsed": false
   },
   "outputs": [],
   "source": [
    "NoteNames = ['C','Db','D','Eb','E','F','Gb','G','Ab','A','Bb','B']\n",
    "\n",
    "notes = dict()\n",
    "k = 12\n",
    "\n",
    "for i in np.arange(0,5):\n",
    "    for j in NoteNames:\n",
    "        name = j + str(i)\n",
    "        notes[name] = k\n",
    "        k+=1"
   ]
  },
  {
   "cell_type": "code",
   "execution_count": 61,
   "metadata": {
    "collapsed": false
   },
   "outputs": [
    {
     "name": "stdout",
     "output_type": "stream",
     "text": [
      "{'Db3': 49, 'Gb4': 66, 'Gb2': 42, 'Gb3': 54, 'Gb0': 18, 'Gb1': 30, 'Eb4': 63, 'G4': 67, 'G3': 55, 'G2': 43, 'G1': 31, 'G0': 19, 'C3': 48, 'A1': 33, 'A0': 21, 'A3': 57, 'A2': 45, 'Eb0': 15, 'Eb1': 27, 'Eb2': 39, 'Eb3': 51, 'Db1': 25, 'Db0': 13, 'C1': 24, 'C0': 12, 'E1': 28, 'E0': 16, 'E3': 52, 'E2': 40, 'E4': 64, 'Ab0': 20, 'Ab1': 32, 'Ab2': 44, 'F3': 53, 'Ab4': 68, 'C2': 36, 'Bb4': 70, 'Bb3': 58, 'Bb2': 46, 'Bb1': 34, 'Bb0': 22, 'F0': 17, 'F1': 29, 'F2': 41, 'Db2': 37, 'F4': 65, 'Db4': 61, 'B4': 71, 'Ab3': 56, 'B0': 23, 'B1': 35, 'B2': 47, 'B3': 59, 'A4': 69, 'D4': 62, 'C4': 60, 'D2': 38, 'D3': 50, 'D0': 14, 'D1': 26}\n"
     ]
    }
   ],
   "source": [
    "print notes"
   ]
  },
  {
   "cell_type": "code",
   "execution_count": 64,
   "metadata": {
    "collapsed": false
   },
   "outputs": [
    {
     "name": "stdout",
     "output_type": "stream",
     "text": [
      "60\n"
     ]
    }
   ],
   "source": [
    "print notes['C4']"
   ]
  },
  {
   "cell_type": "code",
   "execution_count": 77,
   "metadata": {
    "collapsed": false
   },
   "outputs": [],
   "source": [
    "class Note(object):\n",
    "    \"\"\"I have no idea what I am doing\"\"\"\n",
    "    \n",
    "    def __init__(self, name='C4'):\n",
    "        self.name = name\n",
    "        \n",
    "    def midi(self):\n",
    "        return notes[self.name]\n",
    "    \n",
    "    def freq(self):\n",
    "        m = notes[self.name]\n",
    "        return 2 ** ((m-69)/12.0) * 440.0"
   ]
  },
  {
   "cell_type": "code",
   "execution_count": 78,
   "metadata": {
    "collapsed": false
   },
   "outputs": [
    {
     "name": "stdout",
     "output_type": "stream",
     "text": [
      "C4\n"
     ]
    }
   ],
   "source": [
    "X = Note('C4')\n",
    "print X.name"
   ]
  },
  {
   "cell_type": "code",
   "execution_count": 79,
   "metadata": {
    "collapsed": false
   },
   "outputs": [
    {
     "name": "stdout",
     "output_type": "stream",
     "text": [
      "60\n"
     ]
    }
   ],
   "source": [
    "print X.midi()"
   ]
  },
  {
   "cell_type": "code",
   "execution_count": 80,
   "metadata": {
    "collapsed": false
   },
   "outputs": [
    {
     "name": "stdout",
     "output_type": "stream",
     "text": [
      "261.625565301\n"
     ]
    }
   ],
   "source": [
    "print X.freq()"
   ]
  },
  {
   "cell_type": "code",
   "execution_count": 81,
   "metadata": {
    "collapsed": false
   },
   "outputs": [
    {
     "name": "stdout",
     "output_type": "stream",
     "text": [
      "440.0\n"
     ]
    }
   ],
   "source": [
    "print Note('A4').freq()"
   ]
  },
  {
   "cell_type": "code",
   "execution_count": null,
   "metadata": {
    "collapsed": true
   },
   "outputs": [],
   "source": []
  }
 ],
 "metadata": {
  "kernelspec": {
   "display_name": "Python 2",
   "language": "python",
   "name": "python2"
  },
  "language_info": {
   "codemirror_mode": {
    "name": "ipython",
    "version": 2
   },
   "file_extension": ".py",
   "mimetype": "text/x-python",
   "name": "python",
   "nbconvert_exporter": "python",
   "pygments_lexer": "ipython2",
   "version": "2.7.9"
  }
 },
 "nbformat": 4,
 "nbformat_minor": 0
}
